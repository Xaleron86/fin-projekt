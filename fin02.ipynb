{
 "cells": [
  {
   "cell_type": "code",
   "execution_count": 6,
   "metadata": {},
   "outputs": [],
   "source": [
    "import tools\n",
    "import yfinance as yf\n",
    "import pandas as pd"
   ]
  },
  {
   "cell_type": "code",
   "execution_count": 2,
   "metadata": {},
   "outputs": [],
   "source": [
    "con = tools.connecet_postgres()\n"
   ]
  },
  {
   "cell_type": "code",
   "execution_count": 3,
   "metadata": {},
   "outputs": [
    {
     "name": "stdout",
     "output_type": "stream",
     "text": [
      "Eintrag existiert schon\n"
     ]
    }
   ],
   "source": [
    "t = yf.Ticker(\"AAPL\")\n",
    "tools.insert_symbol(con, t)    "
   ]
  },
  {
   "cell_type": "code",
   "execution_count": 4,
   "metadata": {},
   "outputs": [
    {
     "data": {
      "text/html": [
       "<div>\n",
       "<style scoped>\n",
       "    .dataframe tbody tr th:only-of-type {\n",
       "        vertical-align: middle;\n",
       "    }\n",
       "\n",
       "    .dataframe tbody tr th {\n",
       "        vertical-align: top;\n",
       "    }\n",
       "\n",
       "    .dataframe thead th {\n",
       "        text-align: right;\n",
       "    }\n",
       "</style>\n",
       "<table border=\"1\" class=\"dataframe\">\n",
       "  <thead>\n",
       "    <tr style=\"text-align: right;\">\n",
       "      <th></th>\n",
       "      <th>Revenue</th>\n",
       "      <th>Earnings</th>\n",
       "    </tr>\n",
       "    <tr>\n",
       "      <th>Quarter</th>\n",
       "      <th></th>\n",
       "      <th></th>\n",
       "    </tr>\n",
       "  </thead>\n",
       "  <tbody>\n",
       "    <tr>\n",
       "      <th>3Q2021</th>\n",
       "      <td>83360000000</td>\n",
       "      <td>20551000000</td>\n",
       "    </tr>\n",
       "    <tr>\n",
       "      <th>4Q2021</th>\n",
       "      <td>123945000000</td>\n",
       "      <td>34630000000</td>\n",
       "    </tr>\n",
       "    <tr>\n",
       "      <th>1Q2022</th>\n",
       "      <td>97278000000</td>\n",
       "      <td>25010000000</td>\n",
       "    </tr>\n",
       "    <tr>\n",
       "      <th>2Q2022</th>\n",
       "      <td>82959000000</td>\n",
       "      <td>19442000000</td>\n",
       "    </tr>\n",
       "  </tbody>\n",
       "</table>\n",
       "</div>"
      ],
      "text/plain": [
       "              Revenue     Earnings\n",
       "Quarter                           \n",
       "3Q2021    83360000000  20551000000\n",
       "4Q2021   123945000000  34630000000\n",
       "1Q2022    97278000000  25010000000\n",
       "2Q2022    82959000000  19442000000"
      ]
     },
     "execution_count": 4,
     "metadata": {},
     "output_type": "execute_result"
    }
   ],
   "source": [
    "t.quarterly_earnings"
   ]
  },
  {
   "cell_type": "code",
   "execution_count": 5,
   "metadata": {},
   "outputs": [
    {
     "ename": "IntegrityError",
     "evalue": "(psycopg2.errors.UniqueViolation) FEHLER:  doppelter Schlüsselwert verletzt Unique-Constraint »earnings_quarter_pkey«\nDETAIL:  Schlüssel »(symbol, quarter)=(AAPL, 2021Q3)« existiert bereits.\n\n[SQL: INSERT INTO finance.earnings_quarter (revenue, earnings, symbol, quarter) VALUES (%(revenue)s, %(earnings)s, %(symbol)s, %(quarter)s)]\n[parameters: ({'revenue': 83360000000, 'earnings': 20551000000, 'symbol': 'AAPL', 'quarter': '2021Q3'}, {'revenue': 123945000000, 'earnings': 34630000000, 'symbol': 'AAPL', 'quarter': '2021Q4'}, {'revenue': 97278000000, 'earnings': 25010000000, 'symbol': 'AAPL', 'quarter': '2022Q1'}, {'revenue': 82959000000, 'earnings': 19442000000, 'symbol': 'AAPL', 'quarter': '2022Q2'})]\n(Background on this error at: https://sqlalche.me/e/14/gkpj)",
     "output_type": "error",
     "traceback": [
      "\u001b[1;31m---------------------------------------------------------------------------\u001b[0m",
      "\u001b[1;31mUniqueViolation\u001b[0m                           Traceback (most recent call last)",
      "File \u001b[1;32mc:\\Users\\Alex\\miniconda3\\envs\\finance\\lib\\site-packages\\sqlalchemy\\engine\\base.py:1880\u001b[0m, in \u001b[0;36mConnection._execute_context\u001b[1;34m(self, dialect, constructor, statement, parameters, execution_options, *args, **kw)\u001b[0m\n\u001b[0;32m   1879\u001b[0m     \u001b[39mif\u001b[39;00m \u001b[39mnot\u001b[39;00m evt_handled:\n\u001b[1;32m-> 1880\u001b[0m         \u001b[39mself\u001b[39;49m\u001b[39m.\u001b[39;49mdialect\u001b[39m.\u001b[39;49mdo_executemany(\n\u001b[0;32m   1881\u001b[0m             cursor, statement, parameters, context\n\u001b[0;32m   1882\u001b[0m         )\n\u001b[0;32m   1883\u001b[0m \u001b[39melif\u001b[39;00m \u001b[39mnot\u001b[39;00m parameters \u001b[39mand\u001b[39;00m context\u001b[39m.\u001b[39mno_parameters:\n",
      "File \u001b[1;32mc:\\Users\\Alex\\miniconda3\\envs\\finance\\lib\\site-packages\\sqlalchemy\\dialects\\postgresql\\psycopg2.py:982\u001b[0m, in \u001b[0;36mPGDialect_psycopg2.do_executemany\u001b[1;34m(self, cursor, statement, parameters, context)\u001b[0m\n\u001b[0;32m    981\u001b[0m     xtras \u001b[39m=\u001b[39m \u001b[39mself\u001b[39m\u001b[39m.\u001b[39m_psycopg2_extras()\n\u001b[1;32m--> 982\u001b[0m     context\u001b[39m.\u001b[39m_psycopg2_fetched_rows \u001b[39m=\u001b[39m xtras\u001b[39m.\u001b[39mexecute_values(\n\u001b[0;32m    983\u001b[0m         cursor,\n\u001b[0;32m    984\u001b[0m         statement,\n\u001b[0;32m    985\u001b[0m         parameters,\n\u001b[0;32m    986\u001b[0m         template\u001b[39m=\u001b[39mexecutemany_values,\n\u001b[0;32m    987\u001b[0m         fetch\u001b[39m=\u001b[39m\u001b[39mbool\u001b[39m(context\u001b[39m.\u001b[39mcompiled\u001b[39m.\u001b[39mreturning),\n\u001b[0;32m    988\u001b[0m         \u001b[39m*\u001b[39m\u001b[39m*\u001b[39mkwargs\n\u001b[0;32m    989\u001b[0m     )\n\u001b[0;32m    991\u001b[0m \u001b[39melif\u001b[39;00m \u001b[39mself\u001b[39m\u001b[39m.\u001b[39mexecutemany_mode \u001b[39m&\u001b[39m EXECUTEMANY_BATCH:\n",
      "File \u001b[1;32mc:\\Users\\Alex\\miniconda3\\envs\\finance\\lib\\site-packages\\psycopg2\\extras.py:1270\u001b[0m, in \u001b[0;36mexecute_values\u001b[1;34m(cur, sql, argslist, template, page_size, fetch)\u001b[0m\n\u001b[0;32m   1269\u001b[0m parts[\u001b[39m-\u001b[39m\u001b[39m1\u001b[39m:] \u001b[39m=\u001b[39m post\n\u001b[1;32m-> 1270\u001b[0m cur\u001b[39m.\u001b[39;49mexecute(\u001b[39mb\u001b[39;49m\u001b[39m'\u001b[39;49m\u001b[39m'\u001b[39;49m\u001b[39m.\u001b[39;49mjoin(parts))\n\u001b[0;32m   1271\u001b[0m \u001b[39mif\u001b[39;00m fetch:\n",
      "\u001b[1;31mUniqueViolation\u001b[0m: FEHLER:  doppelter Schlüsselwert verletzt Unique-Constraint »earnings_quarter_pkey«\nDETAIL:  Schlüssel »(symbol, quarter)=(AAPL, 2021Q3)« existiert bereits.\n",
      "\nThe above exception was the direct cause of the following exception:\n",
      "\u001b[1;31mIntegrityError\u001b[0m                            Traceback (most recent call last)",
      "Cell \u001b[1;32mIn [5], line 12\u001b[0m\n\u001b[0;32m      9\u001b[0m df \u001b[38;5;241m=\u001b[39m df\u001b[38;5;241m.\u001b[39mrename(columns\u001b[38;5;241m=\u001b[39m{\u001b[38;5;124m\"\u001b[39m\u001b[38;5;124mRevenue\u001b[39m\u001b[38;5;124m\"\u001b[39m:\u001b[38;5;124m\"\u001b[39m\u001b[38;5;124mrevenue\u001b[39m\u001b[38;5;124m\"\u001b[39m,\u001b[38;5;124m\"\u001b[39m\u001b[38;5;124mEarnings\u001b[39m\u001b[38;5;124m\"\u001b[39m:\u001b[38;5;124m\"\u001b[39m\u001b[38;5;124mearnings\u001b[39m\u001b[38;5;124m\"\u001b[39m})\n\u001b[0;32m     10\u001b[0m df\n\u001b[1;32m---> 12\u001b[0m \u001b[43mdf\u001b[49m\u001b[38;5;241;43m.\u001b[39;49m\u001b[43mto_sql\u001b[49m\u001b[43m(\u001b[49m\u001b[38;5;124;43m\"\u001b[39;49m\u001b[38;5;124;43mearnings_quarter\u001b[39;49m\u001b[38;5;124;43m\"\u001b[39;49m\u001b[43m,\u001b[49m\u001b[43mcon\u001b[49m\u001b[43m,\u001b[49m\u001b[43m \u001b[49m\u001b[43mschema\u001b[49m\u001b[38;5;241;43m=\u001b[39;49m\u001b[38;5;124;43m\"\u001b[39;49m\u001b[38;5;124;43mfinance\u001b[39;49m\u001b[38;5;124;43m\"\u001b[39;49m\u001b[43m,\u001b[49m\u001b[43m \u001b[49m\u001b[43mif_exists\u001b[49m\u001b[38;5;241;43m=\u001b[39;49m\u001b[38;5;124;43m\"\u001b[39;49m\u001b[38;5;124;43mappend\u001b[39;49m\u001b[38;5;124;43m\"\u001b[39;49m\u001b[43m,\u001b[49m\u001b[43m \u001b[49m\u001b[43mindex\u001b[49m\u001b[38;5;241;43m=\u001b[39;49m\u001b[38;5;28;43;01mFalse\u001b[39;49;00m\u001b[43m)\u001b[49m\n",
      "File \u001b[1;32mc:\\Users\\Alex\\miniconda3\\envs\\finance\\lib\\site-packages\\pandas\\core\\generic.py:2951\u001b[0m, in \u001b[0;36mNDFrame.to_sql\u001b[1;34m(self, name, con, schema, if_exists, index, index_label, chunksize, dtype, method)\u001b[0m\n\u001b[0;32m   2794\u001b[0m \u001b[39m\"\"\"\u001b[39;00m\n\u001b[0;32m   2795\u001b[0m \u001b[39mWrite records stored in a DataFrame to a SQL database.\u001b[39;00m\n\u001b[0;32m   2796\u001b[0m \n\u001b[1;32m   (...)\u001b[0m\n\u001b[0;32m   2947\u001b[0m \u001b[39m[(1,), (None,), (2,)]\u001b[39;00m\n\u001b[0;32m   2948\u001b[0m \u001b[39m\"\"\"\u001b[39;00m  \u001b[39m# noqa:E501\u001b[39;00m\n\u001b[0;32m   2949\u001b[0m \u001b[39mfrom\u001b[39;00m \u001b[39mpandas\u001b[39;00m\u001b[39m.\u001b[39;00m\u001b[39mio\u001b[39;00m \u001b[39mimport\u001b[39;00m sql\n\u001b[1;32m-> 2951\u001b[0m \u001b[39mreturn\u001b[39;00m sql\u001b[39m.\u001b[39;49mto_sql(\n\u001b[0;32m   2952\u001b[0m     \u001b[39mself\u001b[39;49m,\n\u001b[0;32m   2953\u001b[0m     name,\n\u001b[0;32m   2954\u001b[0m     con,\n\u001b[0;32m   2955\u001b[0m     schema\u001b[39m=\u001b[39;49mschema,\n\u001b[0;32m   2956\u001b[0m     if_exists\u001b[39m=\u001b[39;49mif_exists,\n\u001b[0;32m   2957\u001b[0m     index\u001b[39m=\u001b[39;49mindex,\n\u001b[0;32m   2958\u001b[0m     index_label\u001b[39m=\u001b[39;49mindex_label,\n\u001b[0;32m   2959\u001b[0m     chunksize\u001b[39m=\u001b[39;49mchunksize,\n\u001b[0;32m   2960\u001b[0m     dtype\u001b[39m=\u001b[39;49mdtype,\n\u001b[0;32m   2961\u001b[0m     method\u001b[39m=\u001b[39;49mmethod,\n\u001b[0;32m   2962\u001b[0m )\n",
      "File \u001b[1;32mc:\\Users\\Alex\\miniconda3\\envs\\finance\\lib\\site-packages\\pandas\\io\\sql.py:698\u001b[0m, in \u001b[0;36mto_sql\u001b[1;34m(frame, name, con, schema, if_exists, index, index_label, chunksize, dtype, method, engine, **engine_kwargs)\u001b[0m\n\u001b[0;32m    693\u001b[0m \u001b[39melif\u001b[39;00m \u001b[39mnot\u001b[39;00m \u001b[39misinstance\u001b[39m(frame, DataFrame):\n\u001b[0;32m    694\u001b[0m     \u001b[39mraise\u001b[39;00m \u001b[39mNotImplementedError\u001b[39;00m(\n\u001b[0;32m    695\u001b[0m         \u001b[39m\"\u001b[39m\u001b[39m'\u001b[39m\u001b[39mframe\u001b[39m\u001b[39m'\u001b[39m\u001b[39m argument should be either a Series or a DataFrame\u001b[39m\u001b[39m\"\u001b[39m\n\u001b[0;32m    696\u001b[0m     )\n\u001b[1;32m--> 698\u001b[0m \u001b[39mreturn\u001b[39;00m pandas_sql\u001b[39m.\u001b[39mto_sql(\n\u001b[0;32m    699\u001b[0m     frame,\n\u001b[0;32m    700\u001b[0m     name,\n\u001b[0;32m    701\u001b[0m     if_exists\u001b[39m=\u001b[39mif_exists,\n\u001b[0;32m    702\u001b[0m     index\u001b[39m=\u001b[39mindex,\n\u001b[0;32m    703\u001b[0m     index_label\u001b[39m=\u001b[39mindex_label,\n\u001b[0;32m    704\u001b[0m     schema\u001b[39m=\u001b[39mschema,\n\u001b[0;32m    705\u001b[0m     chunksize\u001b[39m=\u001b[39mchunksize,\n\u001b[0;32m    706\u001b[0m     dtype\u001b[39m=\u001b[39mdtype,\n\u001b[0;32m    707\u001b[0m     method\u001b[39m=\u001b[39mmethod,\n\u001b[0;32m    708\u001b[0m     engine\u001b[39m=\u001b[39mengine,\n\u001b[0;32m    709\u001b[0m     \u001b[39m*\u001b[39m\u001b[39m*\u001b[39mengine_kwargs,\n\u001b[0;32m    710\u001b[0m )\n",
      "File \u001b[1;32mc:\\Users\\Alex\\miniconda3\\envs\\finance\\lib\\site-packages\\pandas\\io\\sql.py:1742\u001b[0m, in \u001b[0;36mSQLDatabase.to_sql\u001b[1;34m(self, frame, name, if_exists, index, index_label, schema, chunksize, dtype, method, engine, **engine_kwargs)\u001b[0m\n\u001b[0;32m   1730\u001b[0m sql_engine \u001b[39m=\u001b[39m get_engine(engine)\n\u001b[0;32m   1732\u001b[0m table \u001b[39m=\u001b[39m \u001b[39mself\u001b[39m\u001b[39m.\u001b[39mprep_table(\n\u001b[0;32m   1733\u001b[0m     frame\u001b[39m=\u001b[39mframe,\n\u001b[0;32m   1734\u001b[0m     name\u001b[39m=\u001b[39mname,\n\u001b[1;32m   (...)\u001b[0m\n\u001b[0;32m   1739\u001b[0m     dtype\u001b[39m=\u001b[39mdtype,\n\u001b[0;32m   1740\u001b[0m )\n\u001b[1;32m-> 1742\u001b[0m total_inserted \u001b[39m=\u001b[39m sql_engine\u001b[39m.\u001b[39minsert_records(\n\u001b[0;32m   1743\u001b[0m     table\u001b[39m=\u001b[39mtable,\n\u001b[0;32m   1744\u001b[0m     con\u001b[39m=\u001b[39m\u001b[39mself\u001b[39m\u001b[39m.\u001b[39mconnectable,\n\u001b[0;32m   1745\u001b[0m     frame\u001b[39m=\u001b[39mframe,\n\u001b[0;32m   1746\u001b[0m     name\u001b[39m=\u001b[39mname,\n\u001b[0;32m   1747\u001b[0m     index\u001b[39m=\u001b[39mindex,\n\u001b[0;32m   1748\u001b[0m     schema\u001b[39m=\u001b[39mschema,\n\u001b[0;32m   1749\u001b[0m     chunksize\u001b[39m=\u001b[39mchunksize,\n\u001b[0;32m   1750\u001b[0m     method\u001b[39m=\u001b[39mmethod,\n\u001b[0;32m   1751\u001b[0m     \u001b[39m*\u001b[39m\u001b[39m*\u001b[39mengine_kwargs,\n\u001b[0;32m   1752\u001b[0m )\n\u001b[0;32m   1754\u001b[0m \u001b[39mself\u001b[39m\u001b[39m.\u001b[39mcheck_case_sensitive(name\u001b[39m=\u001b[39mname, schema\u001b[39m=\u001b[39mschema)\n\u001b[0;32m   1755\u001b[0m \u001b[39mreturn\u001b[39;00m total_inserted\n",
      "File \u001b[1;32mc:\\Users\\Alex\\miniconda3\\envs\\finance\\lib\\site-packages\\pandas\\io\\sql.py:1335\u001b[0m, in \u001b[0;36mSQLAlchemyEngine.insert_records\u001b[1;34m(self, table, con, frame, name, index, schema, chunksize, method, **engine_kwargs)\u001b[0m\n\u001b[0;32m   1333\u001b[0m     \u001b[39mraise\u001b[39;00m \u001b[39mValueError\u001b[39;00m(\u001b[39m\"\u001b[39m\u001b[39minf cannot be used with MySQL\u001b[39m\u001b[39m\"\u001b[39m) \u001b[39mfrom\u001b[39;00m \u001b[39merr\u001b[39;00m\n\u001b[0;32m   1334\u001b[0m \u001b[39melse\u001b[39;00m:\n\u001b[1;32m-> 1335\u001b[0m     \u001b[39mraise\u001b[39;00m err\n",
      "File \u001b[1;32mc:\\Users\\Alex\\miniconda3\\envs\\finance\\lib\\site-packages\\pandas\\io\\sql.py:1325\u001b[0m, in \u001b[0;36mSQLAlchemyEngine.insert_records\u001b[1;34m(self, table, con, frame, name, index, schema, chunksize, method, **engine_kwargs)\u001b[0m\n\u001b[0;32m   1322\u001b[0m \u001b[39mfrom\u001b[39;00m \u001b[39msqlalchemy\u001b[39;00m \u001b[39mimport\u001b[39;00m exc\n\u001b[0;32m   1324\u001b[0m \u001b[39mtry\u001b[39;00m:\n\u001b[1;32m-> 1325\u001b[0m     \u001b[39mreturn\u001b[39;00m table\u001b[39m.\u001b[39;49minsert(chunksize\u001b[39m=\u001b[39;49mchunksize, method\u001b[39m=\u001b[39;49mmethod)\n\u001b[0;32m   1326\u001b[0m \u001b[39mexcept\u001b[39;00m exc\u001b[39m.\u001b[39mSQLAlchemyError \u001b[39mas\u001b[39;00m err:\n\u001b[0;32m   1327\u001b[0m     \u001b[39m# GH34431\u001b[39;00m\n\u001b[0;32m   1328\u001b[0m     \u001b[39m# https://stackoverflow.com/a/67358288/6067848\u001b[39;00m\n\u001b[0;32m   1329\u001b[0m     msg \u001b[39m=\u001b[39m \u001b[39mr\u001b[39m\u001b[39m\"\"\"\u001b[39m\u001b[39m(\u001b[39m\u001b[39m\\\u001b[39m\u001b[39m(1054, \u001b[39m\u001b[39m\"\u001b[39m\u001b[39mUnknown column \u001b[39m\u001b[39m'\u001b[39m\u001b[39minf(e0)?\u001b[39m\u001b[39m'\u001b[39m\u001b[39m in \u001b[39m\u001b[39m'\u001b[39m\u001b[39mfield list\u001b[39m\u001b[39m'\u001b[39m\u001b[39m\"\u001b[39m\u001b[39m\\\u001b[39m\u001b[39m))(?#\u001b[39m\n\u001b[0;32m   1330\u001b[0m \u001b[39m    )|inf can not be used with MySQL\u001b[39m\u001b[39m\"\"\"\u001b[39m\n",
      "File \u001b[1;32mc:\\Users\\Alex\\miniconda3\\envs\\finance\\lib\\site-packages\\pandas\\io\\sql.py:951\u001b[0m, in \u001b[0;36mSQLTable.insert\u001b[1;34m(self, chunksize, method)\u001b[0m\n\u001b[0;32m    948\u001b[0m     \u001b[39mbreak\u001b[39;00m\n\u001b[0;32m    950\u001b[0m chunk_iter \u001b[39m=\u001b[39m \u001b[39mzip\u001b[39m(\u001b[39m*\u001b[39m(arr[start_i:end_i] \u001b[39mfor\u001b[39;00m arr \u001b[39min\u001b[39;00m data_list))\n\u001b[1;32m--> 951\u001b[0m num_inserted \u001b[39m=\u001b[39m exec_insert(conn, keys, chunk_iter)\n\u001b[0;32m    952\u001b[0m \u001b[39m# GH 46891\u001b[39;00m\n\u001b[0;32m    953\u001b[0m \u001b[39mif\u001b[39;00m is_integer(num_inserted):\n",
      "File \u001b[1;32mc:\\Users\\Alex\\miniconda3\\envs\\finance\\lib\\site-packages\\pandas\\io\\sql.py:858\u001b[0m, in \u001b[0;36mSQLTable._execute_insert\u001b[1;34m(self, conn, keys, data_iter)\u001b[0m\n\u001b[0;32m    846\u001b[0m \u001b[39m\"\"\"\u001b[39;00m\n\u001b[0;32m    847\u001b[0m \u001b[39mExecute SQL statement inserting data\u001b[39;00m\n\u001b[0;32m    848\u001b[0m \n\u001b[1;32m   (...)\u001b[0m\n\u001b[0;32m    855\u001b[0m \u001b[39m   Each item contains a list of values to be inserted\u001b[39;00m\n\u001b[0;32m    856\u001b[0m \u001b[39m\"\"\"\u001b[39;00m\n\u001b[0;32m    857\u001b[0m data \u001b[39m=\u001b[39m [\u001b[39mdict\u001b[39m(\u001b[39mzip\u001b[39m(keys, row)) \u001b[39mfor\u001b[39;00m row \u001b[39min\u001b[39;00m data_iter]\n\u001b[1;32m--> 858\u001b[0m result \u001b[39m=\u001b[39m conn\u001b[39m.\u001b[39;49mexecute(\u001b[39mself\u001b[39;49m\u001b[39m.\u001b[39;49mtable\u001b[39m.\u001b[39;49minsert(), data)\n\u001b[0;32m    859\u001b[0m \u001b[39mreturn\u001b[39;00m result\u001b[39m.\u001b[39mrowcount\n",
      "File \u001b[1;32mc:\\Users\\Alex\\miniconda3\\envs\\finance\\lib\\site-packages\\sqlalchemy\\engine\\base.py:1380\u001b[0m, in \u001b[0;36mConnection.execute\u001b[1;34m(self, statement, *multiparams, **params)\u001b[0m\n\u001b[0;32m   1376\u001b[0m     util\u001b[39m.\u001b[39mraise_(\n\u001b[0;32m   1377\u001b[0m         exc\u001b[39m.\u001b[39mObjectNotExecutableError(statement), replace_context\u001b[39m=\u001b[39merr\n\u001b[0;32m   1378\u001b[0m     )\n\u001b[0;32m   1379\u001b[0m \u001b[39melse\u001b[39;00m:\n\u001b[1;32m-> 1380\u001b[0m     \u001b[39mreturn\u001b[39;00m meth(\u001b[39mself\u001b[39;49m, multiparams, params, _EMPTY_EXECUTION_OPTS)\n",
      "File \u001b[1;32mc:\\Users\\Alex\\miniconda3\\envs\\finance\\lib\\site-packages\\sqlalchemy\\sql\\elements.py:333\u001b[0m, in \u001b[0;36mClauseElement._execute_on_connection\u001b[1;34m(self, connection, multiparams, params, execution_options, _force)\u001b[0m\n\u001b[0;32m    329\u001b[0m \u001b[39mdef\u001b[39;00m \u001b[39m_execute_on_connection\u001b[39m(\n\u001b[0;32m    330\u001b[0m     \u001b[39mself\u001b[39m, connection, multiparams, params, execution_options, _force\u001b[39m=\u001b[39m\u001b[39mFalse\u001b[39;00m\n\u001b[0;32m    331\u001b[0m ):\n\u001b[0;32m    332\u001b[0m     \u001b[39mif\u001b[39;00m _force \u001b[39mor\u001b[39;00m \u001b[39mself\u001b[39m\u001b[39m.\u001b[39msupports_execution:\n\u001b[1;32m--> 333\u001b[0m         \u001b[39mreturn\u001b[39;00m connection\u001b[39m.\u001b[39;49m_execute_clauseelement(\n\u001b[0;32m    334\u001b[0m             \u001b[39mself\u001b[39;49m, multiparams, params, execution_options\n\u001b[0;32m    335\u001b[0m         )\n\u001b[0;32m    336\u001b[0m     \u001b[39melse\u001b[39;00m:\n\u001b[0;32m    337\u001b[0m         \u001b[39mraise\u001b[39;00m exc\u001b[39m.\u001b[39mObjectNotExecutableError(\u001b[39mself\u001b[39m)\n",
      "File \u001b[1;32mc:\\Users\\Alex\\miniconda3\\envs\\finance\\lib\\site-packages\\sqlalchemy\\engine\\base.py:1572\u001b[0m, in \u001b[0;36mConnection._execute_clauseelement\u001b[1;34m(self, elem, multiparams, params, execution_options)\u001b[0m\n\u001b[0;32m   1560\u001b[0m compiled_cache \u001b[39m=\u001b[39m execution_options\u001b[39m.\u001b[39mget(\n\u001b[0;32m   1561\u001b[0m     \u001b[39m\"\u001b[39m\u001b[39mcompiled_cache\u001b[39m\u001b[39m\"\u001b[39m, \u001b[39mself\u001b[39m\u001b[39m.\u001b[39mengine\u001b[39m.\u001b[39m_compiled_cache\n\u001b[0;32m   1562\u001b[0m )\n\u001b[0;32m   1564\u001b[0m compiled_sql, extracted_params, cache_hit \u001b[39m=\u001b[39m elem\u001b[39m.\u001b[39m_compile_w_cache(\n\u001b[0;32m   1565\u001b[0m     dialect\u001b[39m=\u001b[39mdialect,\n\u001b[0;32m   1566\u001b[0m     compiled_cache\u001b[39m=\u001b[39mcompiled_cache,\n\u001b[1;32m   (...)\u001b[0m\n\u001b[0;32m   1570\u001b[0m     linting\u001b[39m=\u001b[39m\u001b[39mself\u001b[39m\u001b[39m.\u001b[39mdialect\u001b[39m.\u001b[39mcompiler_linting \u001b[39m|\u001b[39m compiler\u001b[39m.\u001b[39mWARN_LINTING,\n\u001b[0;32m   1571\u001b[0m )\n\u001b[1;32m-> 1572\u001b[0m ret \u001b[39m=\u001b[39m \u001b[39mself\u001b[39;49m\u001b[39m.\u001b[39;49m_execute_context(\n\u001b[0;32m   1573\u001b[0m     dialect,\n\u001b[0;32m   1574\u001b[0m     dialect\u001b[39m.\u001b[39;49mexecution_ctx_cls\u001b[39m.\u001b[39;49m_init_compiled,\n\u001b[0;32m   1575\u001b[0m     compiled_sql,\n\u001b[0;32m   1576\u001b[0m     distilled_params,\n\u001b[0;32m   1577\u001b[0m     execution_options,\n\u001b[0;32m   1578\u001b[0m     compiled_sql,\n\u001b[0;32m   1579\u001b[0m     distilled_params,\n\u001b[0;32m   1580\u001b[0m     elem,\n\u001b[0;32m   1581\u001b[0m     extracted_params,\n\u001b[0;32m   1582\u001b[0m     cache_hit\u001b[39m=\u001b[39;49mcache_hit,\n\u001b[0;32m   1583\u001b[0m )\n\u001b[0;32m   1584\u001b[0m \u001b[39mif\u001b[39;00m has_events:\n\u001b[0;32m   1585\u001b[0m     \u001b[39mself\u001b[39m\u001b[39m.\u001b[39mdispatch\u001b[39m.\u001b[39mafter_execute(\n\u001b[0;32m   1586\u001b[0m         \u001b[39mself\u001b[39m,\n\u001b[0;32m   1587\u001b[0m         elem,\n\u001b[1;32m   (...)\u001b[0m\n\u001b[0;32m   1591\u001b[0m         ret,\n\u001b[0;32m   1592\u001b[0m     )\n",
      "File \u001b[1;32mc:\\Users\\Alex\\miniconda3\\envs\\finance\\lib\\site-packages\\sqlalchemy\\engine\\base.py:1943\u001b[0m, in \u001b[0;36mConnection._execute_context\u001b[1;34m(self, dialect, constructor, statement, parameters, execution_options, *args, **kw)\u001b[0m\n\u001b[0;32m   1940\u001b[0m             branched\u001b[39m.\u001b[39mclose()\n\u001b[0;32m   1942\u001b[0m \u001b[39mexcept\u001b[39;00m \u001b[39mBaseException\u001b[39;00m \u001b[39mas\u001b[39;00m e:\n\u001b[1;32m-> 1943\u001b[0m     \u001b[39mself\u001b[39;49m\u001b[39m.\u001b[39;49m_handle_dbapi_exception(\n\u001b[0;32m   1944\u001b[0m         e, statement, parameters, cursor, context\n\u001b[0;32m   1945\u001b[0m     )\n\u001b[0;32m   1947\u001b[0m \u001b[39mreturn\u001b[39;00m result\n",
      "File \u001b[1;32mc:\\Users\\Alex\\miniconda3\\envs\\finance\\lib\\site-packages\\sqlalchemy\\engine\\base.py:2124\u001b[0m, in \u001b[0;36mConnection._handle_dbapi_exception\u001b[1;34m(self, e, statement, parameters, cursor, context)\u001b[0m\n\u001b[0;32m   2122\u001b[0m     util\u001b[39m.\u001b[39mraise_(newraise, with_traceback\u001b[39m=\u001b[39mexc_info[\u001b[39m2\u001b[39m], from_\u001b[39m=\u001b[39me)\n\u001b[0;32m   2123\u001b[0m \u001b[39melif\u001b[39;00m should_wrap:\n\u001b[1;32m-> 2124\u001b[0m     util\u001b[39m.\u001b[39;49mraise_(\n\u001b[0;32m   2125\u001b[0m         sqlalchemy_exception, with_traceback\u001b[39m=\u001b[39;49mexc_info[\u001b[39m2\u001b[39;49m], from_\u001b[39m=\u001b[39;49me\n\u001b[0;32m   2126\u001b[0m     )\n\u001b[0;32m   2127\u001b[0m \u001b[39melse\u001b[39;00m:\n\u001b[0;32m   2128\u001b[0m     util\u001b[39m.\u001b[39mraise_(exc_info[\u001b[39m1\u001b[39m], with_traceback\u001b[39m=\u001b[39mexc_info[\u001b[39m2\u001b[39m])\n",
      "File \u001b[1;32mc:\\Users\\Alex\\miniconda3\\envs\\finance\\lib\\site-packages\\sqlalchemy\\util\\compat.py:208\u001b[0m, in \u001b[0;36mraise_\u001b[1;34m(***failed resolving arguments***)\u001b[0m\n\u001b[0;32m    205\u001b[0m     exception\u001b[39m.\u001b[39m__cause__ \u001b[39m=\u001b[39m replace_context\n\u001b[0;32m    207\u001b[0m \u001b[39mtry\u001b[39;00m:\n\u001b[1;32m--> 208\u001b[0m     \u001b[39mraise\u001b[39;00m exception\n\u001b[0;32m    209\u001b[0m \u001b[39mfinally\u001b[39;00m:\n\u001b[0;32m    210\u001b[0m     \u001b[39m# credit to\u001b[39;00m\n\u001b[0;32m    211\u001b[0m     \u001b[39m# https://cosmicpercolator.com/2016/01/13/exception-leaks-in-python-2-and-3/\u001b[39;00m\n\u001b[0;32m    212\u001b[0m     \u001b[39m# as the __traceback__ object creates a cycle\u001b[39;00m\n\u001b[0;32m    213\u001b[0m     \u001b[39mdel\u001b[39;00m exception, replace_context, from_, with_traceback\n",
      "File \u001b[1;32mc:\\Users\\Alex\\miniconda3\\envs\\finance\\lib\\site-packages\\sqlalchemy\\engine\\base.py:1880\u001b[0m, in \u001b[0;36mConnection._execute_context\u001b[1;34m(self, dialect, constructor, statement, parameters, execution_options, *args, **kw)\u001b[0m\n\u001b[0;32m   1878\u001b[0m                 \u001b[39mbreak\u001b[39;00m\n\u001b[0;32m   1879\u001b[0m     \u001b[39mif\u001b[39;00m \u001b[39mnot\u001b[39;00m evt_handled:\n\u001b[1;32m-> 1880\u001b[0m         \u001b[39mself\u001b[39;49m\u001b[39m.\u001b[39;49mdialect\u001b[39m.\u001b[39;49mdo_executemany(\n\u001b[0;32m   1881\u001b[0m             cursor, statement, parameters, context\n\u001b[0;32m   1882\u001b[0m         )\n\u001b[0;32m   1883\u001b[0m \u001b[39melif\u001b[39;00m \u001b[39mnot\u001b[39;00m parameters \u001b[39mand\u001b[39;00m context\u001b[39m.\u001b[39mno_parameters:\n\u001b[0;32m   1884\u001b[0m     \u001b[39mif\u001b[39;00m \u001b[39mself\u001b[39m\u001b[39m.\u001b[39mdialect\u001b[39m.\u001b[39m_has_events:\n",
      "File \u001b[1;32mc:\\Users\\Alex\\miniconda3\\envs\\finance\\lib\\site-packages\\sqlalchemy\\dialects\\postgresql\\psycopg2.py:982\u001b[0m, in \u001b[0;36mPGDialect_psycopg2.do_executemany\u001b[1;34m(self, cursor, statement, parameters, context)\u001b[0m\n\u001b[0;32m    980\u001b[0m         kwargs \u001b[39m=\u001b[39m {}\n\u001b[0;32m    981\u001b[0m     xtras \u001b[39m=\u001b[39m \u001b[39mself\u001b[39m\u001b[39m.\u001b[39m_psycopg2_extras()\n\u001b[1;32m--> 982\u001b[0m     context\u001b[39m.\u001b[39m_psycopg2_fetched_rows \u001b[39m=\u001b[39m xtras\u001b[39m.\u001b[39mexecute_values(\n\u001b[0;32m    983\u001b[0m         cursor,\n\u001b[0;32m    984\u001b[0m         statement,\n\u001b[0;32m    985\u001b[0m         parameters,\n\u001b[0;32m    986\u001b[0m         template\u001b[39m=\u001b[39mexecutemany_values,\n\u001b[0;32m    987\u001b[0m         fetch\u001b[39m=\u001b[39m\u001b[39mbool\u001b[39m(context\u001b[39m.\u001b[39mcompiled\u001b[39m.\u001b[39mreturning),\n\u001b[0;32m    988\u001b[0m         \u001b[39m*\u001b[39m\u001b[39m*\u001b[39mkwargs\n\u001b[0;32m    989\u001b[0m     )\n\u001b[0;32m    991\u001b[0m \u001b[39melif\u001b[39;00m \u001b[39mself\u001b[39m\u001b[39m.\u001b[39mexecutemany_mode \u001b[39m&\u001b[39m EXECUTEMANY_BATCH:\n\u001b[0;32m    992\u001b[0m     \u001b[39mif\u001b[39;00m \u001b[39mself\u001b[39m\u001b[39m.\u001b[39mexecutemany_batch_page_size:\n",
      "File \u001b[1;32mc:\\Users\\Alex\\miniconda3\\envs\\finance\\lib\\site-packages\\psycopg2\\extras.py:1270\u001b[0m, in \u001b[0;36mexecute_values\u001b[1;34m(cur, sql, argslist, template, page_size, fetch)\u001b[0m\n\u001b[0;32m   1268\u001b[0m     parts\u001b[39m.\u001b[39mappend(\u001b[39mb\u001b[39m\u001b[39m'\u001b[39m\u001b[39m,\u001b[39m\u001b[39m'\u001b[39m)\n\u001b[0;32m   1269\u001b[0m parts[\u001b[39m-\u001b[39m\u001b[39m1\u001b[39m:] \u001b[39m=\u001b[39m post\n\u001b[1;32m-> 1270\u001b[0m cur\u001b[39m.\u001b[39;49mexecute(\u001b[39mb\u001b[39;49m\u001b[39m'\u001b[39;49m\u001b[39m'\u001b[39;49m\u001b[39m.\u001b[39;49mjoin(parts))\n\u001b[0;32m   1271\u001b[0m \u001b[39mif\u001b[39;00m fetch:\n\u001b[0;32m   1272\u001b[0m     result\u001b[39m.\u001b[39mextend(cur\u001b[39m.\u001b[39mfetchall())\n",
      "\u001b[1;31mIntegrityError\u001b[0m: (psycopg2.errors.UniqueViolation) FEHLER:  doppelter Schlüsselwert verletzt Unique-Constraint »earnings_quarter_pkey«\nDETAIL:  Schlüssel »(symbol, quarter)=(AAPL, 2021Q3)« existiert bereits.\n\n[SQL: INSERT INTO finance.earnings_quarter (revenue, earnings, symbol, quarter) VALUES (%(revenue)s, %(earnings)s, %(symbol)s, %(quarter)s)]\n[parameters: ({'revenue': 83360000000, 'earnings': 20551000000, 'symbol': 'AAPL', 'quarter': '2021Q3'}, {'revenue': 123945000000, 'earnings': 34630000000, 'symbol': 'AAPL', 'quarter': '2021Q4'}, {'revenue': 97278000000, 'earnings': 25010000000, 'symbol': 'AAPL', 'quarter': '2022Q1'}, {'revenue': 82959000000, 'earnings': 19442000000, 'symbol': 'AAPL', 'quarter': '2022Q2'})]\n(Background on this error at: https://sqlalche.me/e/14/gkpj)"
     ]
    }
   ],
   "source": [
    "# Tabelle aus Ticker holen\n",
    "df = t.quarterly_earnings\n",
    "# Umformen, damit passend zu SQL-Tabellen\n",
    "symbol = t.info[\"symbol\"]\n",
    "df[\"symbol\"] = symbol\n",
    "df[\"quarter\"] = df.index\n",
    "df[\"quarter\"] = df[\"quarter\"].str[2:] + \"Q\" + df[\"quarter\"].str[0]\n",
    "# In Datenbank hochladen\n",
    "df = df.rename(columns={\"Revenue\":\"revenue\",\"Earnings\":\"earnings\"})\n",
    "df\n",
    "\n",
    "df.to_sql(\"earnings_quarter\",con, schema=\"finance\", if_exists=\"append\", index=False)"
   ]
  },
  {
   "cell_type": "code",
   "execution_count": null,
   "metadata": {},
   "outputs": [
    {
     "data": {
      "text/plain": [
       "Quarter\n",
       "3Q2021    3\n",
       "4Q2021    4\n",
       "1Q2022    1\n",
       "2Q2022    2\n",
       "Name: quarter, dtype: object"
      ]
     },
     "execution_count": 12,
     "metadata": {},
     "output_type": "execute_result"
    }
   ],
   "source": [
    "#df[\"quarter\"].str[2:]\n",
    "#df[\"quarter\"].str[0]\n",
    "df[\"quarter\"].str[2:] + \"Q\" + df[\"quarter\"].str[0]"
   ]
  },
  {
   "cell_type": "code",
   "execution_count": 7,
   "metadata": {},
   "outputs": [
    {
     "data": {
      "text/html": [
       "<div>\n",
       "<style scoped>\n",
       "    .dataframe tbody tr th:only-of-type {\n",
       "        vertical-align: middle;\n",
       "    }\n",
       "\n",
       "    .dataframe tbody tr th {\n",
       "        vertical-align: top;\n",
       "    }\n",
       "\n",
       "    .dataframe thead th {\n",
       "        text-align: right;\n",
       "    }\n",
       "</style>\n",
       "<table border=\"1\" class=\"dataframe\">\n",
       "  <thead>\n",
       "    <tr style=\"text-align: right;\">\n",
       "      <th></th>\n",
       "      <th>symbol</th>\n",
       "      <th>quarter</th>\n",
       "      <th>revenue</th>\n",
       "      <th>earnings</th>\n",
       "    </tr>\n",
       "  </thead>\n",
       "  <tbody>\n",
       "    <tr>\n",
       "      <th>0</th>\n",
       "      <td>AAPL</td>\n",
       "      <td>2021Q3</td>\n",
       "      <td>83360000000</td>\n",
       "      <td>20551000000</td>\n",
       "    </tr>\n",
       "    <tr>\n",
       "      <th>1</th>\n",
       "      <td>AAPL</td>\n",
       "      <td>2021Q4</td>\n",
       "      <td>123945000000</td>\n",
       "      <td>34630000000</td>\n",
       "    </tr>\n",
       "    <tr>\n",
       "      <th>2</th>\n",
       "      <td>AAPL</td>\n",
       "      <td>2022Q1</td>\n",
       "      <td>97278000000</td>\n",
       "      <td>25010000000</td>\n",
       "    </tr>\n",
       "    <tr>\n",
       "      <th>3</th>\n",
       "      <td>AAPL</td>\n",
       "      <td>2022Q2</td>\n",
       "      <td>82959000000</td>\n",
       "      <td>19442000000</td>\n",
       "    </tr>\n",
       "  </tbody>\n",
       "</table>\n",
       "</div>"
      ],
      "text/plain": [
       "  symbol quarter       revenue     earnings\n",
       "0   AAPL  2021Q3   83360000000  20551000000\n",
       "1   AAPL  2021Q4  123945000000  34630000000\n",
       "2   AAPL  2022Q1   97278000000  25010000000\n",
       "3   AAPL  2022Q2   82959000000  19442000000"
      ]
     },
     "execution_count": 7,
     "metadata": {},
     "output_type": "execute_result"
    }
   ],
   "source": [
    "pd.read_sql(\"select * from finance.earnings_quarter\",con)"
   ]
  }
 ],
 "metadata": {
  "kernelspec": {
   "display_name": "Python 3.10.6 ('finance')",
   "language": "python",
   "name": "python3"
  },
  "language_info": {
   "codemirror_mode": {
    "name": "ipython",
    "version": 3
   },
   "file_extension": ".py",
   "mimetype": "text/x-python",
   "name": "python",
   "nbconvert_exporter": "python",
   "pygments_lexer": "ipython3",
   "version": "3.10.6"
  },
  "orig_nbformat": 4,
  "vscode": {
   "interpreter": {
    "hash": "1610e66d11cfd668827fec2f8c8a912e70930a1ce2d7c3844721baa3ac149085"
   }
  }
 },
 "nbformat": 4,
 "nbformat_minor": 2
}
