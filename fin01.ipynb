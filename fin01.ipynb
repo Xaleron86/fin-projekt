{
 "cells": [
  {
   "cell_type": "code",
   "execution_count": null,
   "metadata": {},
   "outputs": [],
   "source": []
  }
 ],
 "metadata": {
  "kernelspec": {
   "display_name": "Python 3.10.6 ('finance')",
   "language": "python",
   "name": "python3"
  },
  "language_info": {
   "name": "python",
   "version": "3.10.6"
  },
  "orig_nbformat": 4,
  "vscode": {
   "interpreter": {
    "hash": "1610e66d11cfd668827fec2f8c8a912e70930a1ce2d7c3844721baa3ac149085"
   }
  }
 },
 "nbformat": 4,
 "nbformat_minor": 2
}
