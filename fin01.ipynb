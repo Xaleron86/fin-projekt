{
 "cells": [
  {
   "cell_type": "code",
   "execution_count": 1,
   "metadata": {},
   "outputs": [],
   "source": [
    "import yfinance as yf\n",
    "import pandas as pd\n"
   ]
  },
  {
   "cell_type": "code",
   "execution_count": 3,
   "metadata": {},
   "outputs": [],
   "source": [
    "msft = yf.Ticker(\"MSFT\")"
   ]
  },
  {
   "cell_type": "code",
   "execution_count": 4,
   "metadata": {},
   "outputs": [
    {
     "data": {
      "text/plain": [
       "{'zip': '98052-6399',\n",
       " 'sector': 'Technology',\n",
       " 'fullTimeEmployees': 221000,\n",
       " 'longBusinessSummary': 'Microsoft Corporation develops, licenses, and supports software, services, devices, and solutions worldwide. The company operates in three segments: Productivity and Business Processes, Intelligent Cloud, and More Personal Computing. The Productivity and Business Processes segment offers Office, Exchange, SharePoint, Microsoft Teams, Office 365 Security and Compliance, Microsoft Viva, and Skype for Business; Skype, Outlook.com, OneDrive, and LinkedIn; and Dynamics 365, a set of cloud-based and on-premises business solutions for organizations and enterprise divisions. The Intelligent Cloud segment licenses SQL, Windows Servers, Visual Studio, System Center, and related Client Access Licenses; GitHub that provides a collaboration platform and code hosting service for developers; Nuance provides healthcare and enterprise AI solutions; and Azure, a cloud platform. It also offers enterprise support, Microsoft consulting, and nuance professional services to assist customers in developing, deploying, and managing Microsoft server and desktop solutions; and training and certification on Microsoft products. The More Personal Computing segment provides Windows original equipment manufacturer (OEM) licensing and other non-volume licensing of the Windows operating system; Windows Commercial, such as volume licensing of the Windows operating system, Windows cloud services, and other Windows commercial offerings; patent licensing; and Windows Internet of Things. It also offers Surface, PC accessories, PCs, tablets, gaming and entertainment consoles, and other devices; Gaming, including Xbox hardware, and Xbox content and services; video games and third-party video game royalties; and Search, including Bing and Microsoft advertising. The company sells its products through OEMs, distributors, and resellers; and directly through digital marketplaces, online stores, and retail stores. Microsoft Corporation was founded in 1975 and is headquartered in Redmond, Washington.',\n",
       " 'city': 'Redmond',\n",
       " 'phone': '425 882 8080',\n",
       " 'state': 'WA',\n",
       " 'country': 'United States',\n",
       " 'companyOfficers': [],\n",
       " 'website': 'https://www.microsoft.com',\n",
       " 'maxAge': 1,\n",
       " 'address1': 'One Microsoft Way',\n",
       " 'fax': '425 706 7329',\n",
       " 'industry': 'Software—Infrastructure',\n",
       " 'ebitdaMargins': 0.49418998,\n",
       " 'profitMargins': 0.36686,\n",
       " 'grossMargins': 0.68402,\n",
       " 'operatingCashflow': 89034997760,\n",
       " 'revenueGrowth': 0.124,\n",
       " 'operatingMargins': 0.42055,\n",
       " 'ebitda': 97982996480,\n",
       " 'targetLowPrice': 250,\n",
       " 'recommendationKey': 'buy',\n",
       " 'grossProfits': 135620000000,\n",
       " 'freeCashflow': 49479000064,\n",
       " 'targetMedianPrice': 330,\n",
       " 'currentPrice': 252.22,\n",
       " 'earningsGrowth': 0.031,\n",
       " 'currentRatio': 1.785,\n",
       " 'returnOnAssets': 0.14919,\n",
       " 'numberOfAnalystOpinions': 43,\n",
       " 'targetMeanPrice': 331.08,\n",
       " 'debtToEquity': 47.075,\n",
       " 'returnOnEquity': 0.47151002,\n",
       " 'targetHighPrice': 411,\n",
       " 'totalCash': 104748998656,\n",
       " 'totalDebt': 78399995904,\n",
       " 'totalRevenue': 198269992960,\n",
       " 'totalCashPerShare': 14.045,\n",
       " 'financialCurrency': 'USD',\n",
       " 'revenuePerShare': 26.45,\n",
       " 'quickRatio': 1.567,\n",
       " 'recommendationMean': 1.7,\n",
       " 'exchange': 'NMS',\n",
       " 'shortName': 'Microsoft Corporation',\n",
       " 'longName': 'Microsoft Corporation',\n",
       " 'exchangeTimezoneName': 'America/New_York',\n",
       " 'exchangeTimezoneShortName': 'EDT',\n",
       " 'isEsgPopulated': False,\n",
       " 'gmtOffSetMilliseconds': '-14400000',\n",
       " 'quoteType': 'EQUITY',\n",
       " 'symbol': 'MSFT',\n",
       " 'messageBoardId': 'finmb_21835',\n",
       " 'market': 'us_market',\n",
       " 'annualHoldingsTurnover': None,\n",
       " 'enterpriseToRevenue': 9.355,\n",
       " 'beta3Year': None,\n",
       " 'enterpriseToEbitda': 18.931,\n",
       " '52WeekChange': -0.17439878,\n",
       " 'morningStarRiskRating': None,\n",
       " 'forwardEps': 11.95,\n",
       " 'revenueQuarterlyGrowth': None,\n",
       " 'sharesOutstanding': 7457889792,\n",
       " 'fundInceptionDate': None,\n",
       " 'annualReportExpenseRatio': None,\n",
       " 'totalAssets': None,\n",
       " 'bookValue': 22.313,\n",
       " 'sharesShort': 40544332,\n",
       " 'sharesPercentSharesOut': 0.0054,\n",
       " 'fundFamily': None,\n",
       " 'lastFiscalYearEnd': 1656547200,\n",
       " 'heldPercentInstitutions': 0.72055,\n",
       " 'netIncomeToCommon': 72737996800,\n",
       " 'trailingEps': 9.65,\n",
       " 'lastDividendValue': 0.62,\n",
       " 'SandP52WeekChange': -0.12094104,\n",
       " 'priceToBook': 11.303724,\n",
       " 'heldPercentInsiders': 0.00077,\n",
       " 'nextFiscalYearEnd': 1719705600,\n",
       " 'yield': None,\n",
       " 'mostRecentQuarter': 1656547200,\n",
       " 'shortRatio': 1.95,\n",
       " 'sharesShortPreviousMonthDate': 1659052800,\n",
       " 'floatShares': 7451254348,\n",
       " 'beta': 0.942868,\n",
       " 'enterpriseValue': 1854904205312,\n",
       " 'priceHint': 2,\n",
       " 'threeYearAverageReturn': None,\n",
       " 'lastSplitDate': 1045526400,\n",
       " 'lastSplitFactor': '2:1',\n",
       " 'legalType': None,\n",
       " 'lastDividendDate': 1660694400,\n",
       " 'morningStarOverallRating': None,\n",
       " 'earningsQuarterlyGrowth': 0.017,\n",
       " 'priceToSalesTrailing12Months': 9.4785595,\n",
       " 'dateShortInterest': 1661904000,\n",
       " 'pegRatio': 1.62,\n",
       " 'ytdReturn': None,\n",
       " 'forwardPE': 21.106277,\n",
       " 'lastCapGain': None,\n",
       " 'shortPercentOfFloat': 0.0054,\n",
       " 'sharesShortPriorMonth': 38192351,\n",
       " 'impliedSharesOutstanding': 0,\n",
       " 'category': None,\n",
       " 'fiveYearAverageReturn': None,\n",
       " 'previousClose': 251.99,\n",
       " 'regularMarketOpen': 253.53,\n",
       " 'twoHundredDayAverage': 287.8264,\n",
       " 'trailingAnnualDividendYield': 0.00984166,\n",
       " 'payoutRatio': 0.2508,\n",
       " 'volume24Hr': None,\n",
       " 'regularMarketDayHigh': 254.23,\n",
       " 'navPrice': None,\n",
       " 'averageDailyVolume10Day': 23362440,\n",
       " 'regularMarketPreviousClose': 251.99,\n",
       " 'fiftyDayAverage': 270.1418,\n",
       " 'trailingAnnualDividendRate': 2.48,\n",
       " 'open': 253.53,\n",
       " 'toCurrency': None,\n",
       " 'averageVolume10days': 23362440,\n",
       " 'expireDate': None,\n",
       " 'algorithm': None,\n",
       " 'dividendRate': 2.48,\n",
       " 'exDividendDate': 1660694400,\n",
       " 'circulatingSupply': None,\n",
       " 'startDate': None,\n",
       " 'regularMarketDayLow': 249.86,\n",
       " 'currency': 'USD',\n",
       " 'trailingPE': 26.13679,\n",
       " 'regularMarketVolume': 21984897,\n",
       " 'lastMarket': None,\n",
       " 'maxSupply': None,\n",
       " 'openInterest': None,\n",
       " 'marketCap': 1879313874944,\n",
       " 'volumeAllCurrencies': None,\n",
       " 'strikePrice': None,\n",
       " 'averageVolume': 24487426,\n",
       " 'dayLow': 249.86,\n",
       " 'ask': 0,\n",
       " 'askSize': 1100,\n",
       " 'volume': 21984897,\n",
       " 'fiftyTwoWeekHigh': 349.67,\n",
       " 'fromCurrency': None,\n",
       " 'fiveYearAvgDividendYield': 1.21,\n",
       " 'fiftyTwoWeekLow': 241.51,\n",
       " 'bid': 0,\n",
       " 'tradeable': False,\n",
       " 'dividendYield': 0.0098,\n",
       " 'bidSize': 900,\n",
       " 'dayHigh': 254.23,\n",
       " 'coinMarketCapLink': None,\n",
       " 'regularMarketPrice': 252.22,\n",
       " 'preMarketPrice': 253.3,\n",
       " 'logo_url': 'https://logo.clearbit.com/microsoft.com',\n",
       " 'trailingPegRatio': 1.963}"
      ]
     },
     "execution_count": 4,
     "metadata": {},
     "output_type": "execute_result"
    }
   ],
   "source": [
    "msft.info"
   ]
  },
  {
   "cell_type": "code",
   "execution_count": 5,
   "metadata": {},
   "outputs": [
    {
     "data": {
      "text/plain": [
       "dict_keys(['zip', 'sector', 'fullTimeEmployees', 'longBusinessSummary', 'city', 'phone', 'state', 'country', 'companyOfficers', 'website', 'maxAge', 'address1', 'fax', 'industry', 'ebitdaMargins', 'profitMargins', 'grossMargins', 'operatingCashflow', 'revenueGrowth', 'operatingMargins', 'ebitda', 'targetLowPrice', 'recommendationKey', 'grossProfits', 'freeCashflow', 'targetMedianPrice', 'currentPrice', 'earningsGrowth', 'currentRatio', 'returnOnAssets', 'numberOfAnalystOpinions', 'targetMeanPrice', 'debtToEquity', 'returnOnEquity', 'targetHighPrice', 'totalCash', 'totalDebt', 'totalRevenue', 'totalCashPerShare', 'financialCurrency', 'revenuePerShare', 'quickRatio', 'recommendationMean', 'exchange', 'shortName', 'longName', 'exchangeTimezoneName', 'exchangeTimezoneShortName', 'isEsgPopulated', 'gmtOffSetMilliseconds', 'quoteType', 'symbol', 'messageBoardId', 'market', 'annualHoldingsTurnover', 'enterpriseToRevenue', 'beta3Year', 'enterpriseToEbitda', '52WeekChange', 'morningStarRiskRating', 'forwardEps', 'revenueQuarterlyGrowth', 'sharesOutstanding', 'fundInceptionDate', 'annualReportExpenseRatio', 'totalAssets', 'bookValue', 'sharesShort', 'sharesPercentSharesOut', 'fundFamily', 'lastFiscalYearEnd', 'heldPercentInstitutions', 'netIncomeToCommon', 'trailingEps', 'lastDividendValue', 'SandP52WeekChange', 'priceToBook', 'heldPercentInsiders', 'nextFiscalYearEnd', 'yield', 'mostRecentQuarter', 'shortRatio', 'sharesShortPreviousMonthDate', 'floatShares', 'beta', 'enterpriseValue', 'priceHint', 'threeYearAverageReturn', 'lastSplitDate', 'lastSplitFactor', 'legalType', 'lastDividendDate', 'morningStarOverallRating', 'earningsQuarterlyGrowth', 'priceToSalesTrailing12Months', 'dateShortInterest', 'pegRatio', 'ytdReturn', 'forwardPE', 'lastCapGain', 'shortPercentOfFloat', 'sharesShortPriorMonth', 'impliedSharesOutstanding', 'category', 'fiveYearAverageReturn', 'previousClose', 'regularMarketOpen', 'twoHundredDayAverage', 'trailingAnnualDividendYield', 'payoutRatio', 'volume24Hr', 'regularMarketDayHigh', 'navPrice', 'averageDailyVolume10Day', 'regularMarketPreviousClose', 'fiftyDayAverage', 'trailingAnnualDividendRate', 'open', 'toCurrency', 'averageVolume10days', 'expireDate', 'algorithm', 'dividendRate', 'exDividendDate', 'circulatingSupply', 'startDate', 'regularMarketDayLow', 'currency', 'trailingPE', 'regularMarketVolume', 'lastMarket', 'maxSupply', 'openInterest', 'marketCap', 'volumeAllCurrencies', 'strikePrice', 'averageVolume', 'dayLow', 'ask', 'askSize', 'volume', 'fiftyTwoWeekHigh', 'fromCurrency', 'fiveYearAvgDividendYield', 'fiftyTwoWeekLow', 'bid', 'tradeable', 'dividendYield', 'bidSize', 'dayHigh', 'coinMarketCapLink', 'regularMarketPrice', 'preMarketPrice', 'logo_url', 'trailingPegRatio'])"
      ]
     },
     "execution_count": 5,
     "metadata": {},
     "output_type": "execute_result"
    }
   ],
   "source": [
    "msft.info.keys()"
   ]
  },
  {
   "cell_type": "code",
   "execution_count": 7,
   "metadata": {},
   "outputs": [
    {
     "name": "stdout",
     "output_type": "stream",
     "text": [
      "MSFT\n",
      "United States\n",
      "Microsoft Corporation\n"
     ]
    }
   ],
   "source": [
    "print(msft.info[\"symbol\"])\n",
    "print(msft.info[\"country\"])\n",
    "print(msft.info[\"longName\"])"
   ]
  },
  {
   "cell_type": "code",
   "execution_count": null,
   "metadata": {},
   "outputs": [],
   "source": []
  }
 ],
 "metadata": {
  "kernelspec": {
   "display_name": "Python 3.10.6 ('finance')",
   "language": "python",
   "name": "python3"
  },
  "language_info": {
   "codemirror_mode": {
    "name": "ipython",
    "version": 3
   },
   "file_extension": ".py",
   "mimetype": "text/x-python",
   "name": "python",
   "nbconvert_exporter": "python",
   "pygments_lexer": "ipython3",
   "version": "3.10.6"
  },
  "orig_nbformat": 4,
  "vscode": {
   "interpreter": {
    "hash": "1610e66d11cfd668827fec2f8c8a912e70930a1ce2d7c3844721baa3ac149085"
   }
  }
 },
 "nbformat": 4,
 "nbformat_minor": 2
}
